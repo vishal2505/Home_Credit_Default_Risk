{
 "cells": [
  {
   "cell_type": "code",
   "execution_count": 2,
   "id": "c65333ee",
   "metadata": {},
   "outputs": [],
   "source": [
    "import numpy as np\n",
    "import pandas as pd\n",
    "import matplotlib.pyplot as plt\n",
    "import seaborn as sns\n",
    "pd.options.display.float_format = '{:,.2f}'.format\n",
    "import plotly.express as px\n",
    "import time\n",
    "from datetime import datetime\n",
    "\n",
    "from sklearn.model_selection import train_test_split\n",
    "from sklearn.preprocessing import OneHotEncoder\n",
    "from sklearn.preprocessing import StandardScaler\n",
    "from sklearn.impute import SimpleImputer\n",
    "import numpy as np\n",
    "from sklearn.linear_model import LogisticRegression\n",
    "from sklearn.ensemble import RandomForestClassifier\n",
    "from sklearn.svm import LinearSVC\n",
    "from sklearn.ensemble import GradientBoostingClassifier\n",
    "from sklearn.neighbors import KNeighborsClassifier\n",
    "from sklearn.metrics import confusion_matrix\n",
    "from sklearn import  metrics\n"
   ]
  },
  {
   "cell_type": "code",
   "execution_count": 3,
   "id": "859059d5",
   "metadata": {},
   "outputs": [],
   "source": [
    "## Utility Function\n",
    "\n",
    "# Refer :- https://www.kaggle.com/rinnqd/reduce-memory-usage\n",
    "\n",
    "def reduce_memory_usage(df):\n",
    "  \n",
    "    start_mem = df.memory_usage().sum() / 1024**2\n",
    "    print('Memory usage of dataframe is {:.2f} MB'.format(start_mem))\n",
    "    \n",
    "    for col in df.columns:\n",
    "        col_type = df[col].dtype\n",
    "        \n",
    "        if col_type != object:\n",
    "            c_min = df[col].min()\n",
    "            c_max = df[col].max()\n",
    "            if str(col_type)[:3] == 'int':\n",
    "                if c_min > np.iinfo(np.int8).min and c_max < np.iinfo(np.int8).max:\n",
    "                    df[col] = df[col].astype(np.int8)\n",
    "                elif c_min > np.iinfo(np.int16).min and c_max < np.iinfo(np.int16).max:\n",
    "                    df[col] = df[col].astype(np.int16)\n",
    "                elif c_min > np.iinfo(np.int32).min and c_max < np.iinfo(np.int32).max:\n",
    "                    df[col] = df[col].astype(np.int32)\n",
    "                elif c_min > np.iinfo(np.int64).min and c_max < np.iinfo(np.int64).max:\n",
    "                    df[col] = df[col].astype(np.int64)  \n",
    "            else:\n",
    "                if c_min > np.finfo(np.float16).min and c_max < np.finfo(np.float16).max:\n",
    "                    df[col] = df[col].astype(np.float16)\n",
    "                elif c_min > np.finfo(np.float32).min and c_max < np.finfo(np.float32).max:\n",
    "                    df[col] = df[col].astype(np.float32)\n",
    "                else:\n",
    "                    df[col] = df[col].astype(np.float64)\n",
    "\n",
    "    end_mem = df.memory_usage().sum() / 1024**2\n",
    "    print('Memory usage after optimization is: {:.2f} MB'.format(end_mem))\n",
    "    print('Decreased by {:.1f}%'.format(100 * (start_mem - end_mem) / start_mem))\n",
    "    \n",
    "    return df"
   ]
  },
  {
   "cell_type": "markdown",
   "id": "6436aa62",
   "metadata": {},
   "source": [
    "### Reading merged application file"
   ]
  },
  {
   "cell_type": "code",
   "execution_count": 4,
   "id": "f75968b6",
   "metadata": {},
   "outputs": [
    {
     "name": "stdout",
     "output_type": "stream",
     "text": [
      "Memory usage of dataframe is 1283.33 MB\n",
      "Memory usage after optimization is: 373.03 MB\n",
      "Decreased by 70.9%\n",
      "(307511, 547)\n"
     ]
    },
    {
     "data": {
      "text/html": [
       "<div>\n",
       "<style scoped>\n",
       "    .dataframe tbody tr th:only-of-type {\n",
       "        vertical-align: middle;\n",
       "    }\n",
       "\n",
       "    .dataframe tbody tr th {\n",
       "        vertical-align: top;\n",
       "    }\n",
       "\n",
       "    .dataframe thead th {\n",
       "        text-align: right;\n",
       "    }\n",
       "</style>\n",
       "<table border=\"1\" class=\"dataframe\">\n",
       "  <thead>\n",
       "    <tr style=\"text-align: right;\">\n",
       "      <th></th>\n",
       "      <th>SK_ID_CURR</th>\n",
       "      <th>TARGET</th>\n",
       "      <th>CNT_CHILDREN</th>\n",
       "      <th>AMT_INCOME_TOTAL</th>\n",
       "      <th>AMT_CREDIT</th>\n",
       "      <th>AMT_ANNUITY</th>\n",
       "      <th>AMT_GOODS_PRICE</th>\n",
       "      <th>REGION_POPULATION_RELATIVE</th>\n",
       "      <th>DAYS_BIRTH</th>\n",
       "      <th>DAYS_EMPLOYED</th>\n",
       "      <th>...</th>\n",
       "      <th>CR_PAYMENT_DIV_MIN_VAR</th>\n",
       "      <th>CR_LATE_PAYMENT_MAX</th>\n",
       "      <th>CR_LATE_PAYMENT_MEAN</th>\n",
       "      <th>CR_LATE_PAYMENT_SUM</th>\n",
       "      <th>CR_LATE_PAYMENT_VAR</th>\n",
       "      <th>CR_DRAWING_LIMIT_RATIO_MAX</th>\n",
       "      <th>CR_DRAWING_LIMIT_RATIO_MEAN</th>\n",
       "      <th>CR_DRAWING_LIMIT_RATIO_SUM</th>\n",
       "      <th>CR_DRAWING_LIMIT_RATIO_VAR</th>\n",
       "      <th>CREDIT_COUNT</th>\n",
       "    </tr>\n",
       "  </thead>\n",
       "  <tbody>\n",
       "    <tr>\n",
       "      <th>0</th>\n",
       "      <td>100002</td>\n",
       "      <td>1</td>\n",
       "      <td>0</td>\n",
       "      <td>202,500.00</td>\n",
       "      <td>406,597.50</td>\n",
       "      <td>24,700.50</td>\n",
       "      <td>351,000.00</td>\n",
       "      <td>0.02</td>\n",
       "      <td>-9461</td>\n",
       "      <td>-637</td>\n",
       "      <td>...</td>\n",
       "      <td>NaN</td>\n",
       "      <td>NaN</td>\n",
       "      <td>NaN</td>\n",
       "      <td>NaN</td>\n",
       "      <td>NaN</td>\n",
       "      <td>NaN</td>\n",
       "      <td>NaN</td>\n",
       "      <td>NaN</td>\n",
       "      <td>NaN</td>\n",
       "      <td>NaN</td>\n",
       "    </tr>\n",
       "    <tr>\n",
       "      <th>1</th>\n",
       "      <td>100003</td>\n",
       "      <td>0</td>\n",
       "      <td>0</td>\n",
       "      <td>270,000.00</td>\n",
       "      <td>1,293,502.50</td>\n",
       "      <td>35,698.50</td>\n",
       "      <td>1,129,500.00</td>\n",
       "      <td>0.00</td>\n",
       "      <td>-16765</td>\n",
       "      <td>-1188</td>\n",
       "      <td>...</td>\n",
       "      <td>NaN</td>\n",
       "      <td>NaN</td>\n",
       "      <td>NaN</td>\n",
       "      <td>NaN</td>\n",
       "      <td>NaN</td>\n",
       "      <td>NaN</td>\n",
       "      <td>NaN</td>\n",
       "      <td>NaN</td>\n",
       "      <td>NaN</td>\n",
       "      <td>NaN</td>\n",
       "    </tr>\n",
       "    <tr>\n",
       "      <th>2</th>\n",
       "      <td>100004</td>\n",
       "      <td>0</td>\n",
       "      <td>0</td>\n",
       "      <td>67,500.00</td>\n",
       "      <td>135,000.00</td>\n",
       "      <td>6,750.00</td>\n",
       "      <td>135,000.00</td>\n",
       "      <td>0.01</td>\n",
       "      <td>-19046</td>\n",
       "      <td>-225</td>\n",
       "      <td>...</td>\n",
       "      <td>NaN</td>\n",
       "      <td>NaN</td>\n",
       "      <td>NaN</td>\n",
       "      <td>NaN</td>\n",
       "      <td>NaN</td>\n",
       "      <td>NaN</td>\n",
       "      <td>NaN</td>\n",
       "      <td>NaN</td>\n",
       "      <td>NaN</td>\n",
       "      <td>NaN</td>\n",
       "    </tr>\n",
       "    <tr>\n",
       "      <th>3</th>\n",
       "      <td>100006</td>\n",
       "      <td>0</td>\n",
       "      <td>0</td>\n",
       "      <td>135,000.00</td>\n",
       "      <td>312,682.50</td>\n",
       "      <td>29,686.50</td>\n",
       "      <td>297,000.00</td>\n",
       "      <td>0.01</td>\n",
       "      <td>-19005</td>\n",
       "      <td>-3039</td>\n",
       "      <td>...</td>\n",
       "      <td>NaN</td>\n",
       "      <td>0.00</td>\n",
       "      <td>0.00</td>\n",
       "      <td>0.00</td>\n",
       "      <td>0.00</td>\n",
       "      <td>NaN</td>\n",
       "      <td>NaN</td>\n",
       "      <td>0.00</td>\n",
       "      <td>NaN</td>\n",
       "      <td>6.00</td>\n",
       "    </tr>\n",
       "    <tr>\n",
       "      <th>4</th>\n",
       "      <td>100007</td>\n",
       "      <td>0</td>\n",
       "      <td>0</td>\n",
       "      <td>121,500.00</td>\n",
       "      <td>513,000.00</td>\n",
       "      <td>21,865.50</td>\n",
       "      <td>513,000.00</td>\n",
       "      <td>0.03</td>\n",
       "      <td>-19932</td>\n",
       "      <td>-3038</td>\n",
       "      <td>...</td>\n",
       "      <td>NaN</td>\n",
       "      <td>NaN</td>\n",
       "      <td>NaN</td>\n",
       "      <td>NaN</td>\n",
       "      <td>NaN</td>\n",
       "      <td>NaN</td>\n",
       "      <td>NaN</td>\n",
       "      <td>NaN</td>\n",
       "      <td>NaN</td>\n",
       "      <td>NaN</td>\n",
       "    </tr>\n",
       "  </tbody>\n",
       "</table>\n",
       "<p>5 rows × 547 columns</p>\n",
       "</div>"
      ],
      "text/plain": [
       "   SK_ID_CURR  TARGET  CNT_CHILDREN  AMT_INCOME_TOTAL   AMT_CREDIT  \\\n",
       "0      100002       1             0        202,500.00   406,597.50   \n",
       "1      100003       0             0        270,000.00 1,293,502.50   \n",
       "2      100004       0             0         67,500.00   135,000.00   \n",
       "3      100006       0             0        135,000.00   312,682.50   \n",
       "4      100007       0             0        121,500.00   513,000.00   \n",
       "\n",
       "   AMT_ANNUITY  AMT_GOODS_PRICE  REGION_POPULATION_RELATIVE  DAYS_BIRTH  \\\n",
       "0    24,700.50       351,000.00                        0.02       -9461   \n",
       "1    35,698.50     1,129,500.00                        0.00      -16765   \n",
       "2     6,750.00       135,000.00                        0.01      -19046   \n",
       "3    29,686.50       297,000.00                        0.01      -19005   \n",
       "4    21,865.50       513,000.00                        0.03      -19932   \n",
       "\n",
       "   DAYS_EMPLOYED  ...  CR_PAYMENT_DIV_MIN_VAR  CR_LATE_PAYMENT_MAX  \\\n",
       "0           -637  ...                     NaN                  NaN   \n",
       "1          -1188  ...                     NaN                  NaN   \n",
       "2           -225  ...                     NaN                  NaN   \n",
       "3          -3039  ...                     NaN                 0.00   \n",
       "4          -3038  ...                     NaN                  NaN   \n",
       "\n",
       "   CR_LATE_PAYMENT_MEAN  CR_LATE_PAYMENT_SUM  CR_LATE_PAYMENT_VAR  \\\n",
       "0                   NaN                  NaN                  NaN   \n",
       "1                   NaN                  NaN                  NaN   \n",
       "2                   NaN                  NaN                  NaN   \n",
       "3                  0.00                 0.00                 0.00   \n",
       "4                   NaN                  NaN                  NaN   \n",
       "\n",
       "   CR_DRAWING_LIMIT_RATIO_MAX  CR_DRAWING_LIMIT_RATIO_MEAN  \\\n",
       "0                         NaN                          NaN   \n",
       "1                         NaN                          NaN   \n",
       "2                         NaN                          NaN   \n",
       "3                         NaN                          NaN   \n",
       "4                         NaN                          NaN   \n",
       "\n",
       "   CR_DRAWING_LIMIT_RATIO_SUM  CR_DRAWING_LIMIT_RATIO_VAR  CREDIT_COUNT  \n",
       "0                         NaN                         NaN           NaN  \n",
       "1                         NaN                         NaN           NaN  \n",
       "2                         NaN                         NaN           NaN  \n",
       "3                        0.00                         NaN          6.00  \n",
       "4                         NaN                         NaN           NaN  \n",
       "\n",
       "[5 rows x 547 columns]"
      ]
     },
     "execution_count": 4,
     "metadata": {},
     "output_type": "execute_result"
    }
   ],
   "source": [
    "app_merged_df = reduce_memory_usage(pd.read_csv('application_merged.csv'))\n",
    "print(app_merged_df.shape)\n",
    "app_merged_df.head()"
   ]
  },
  {
   "cell_type": "code",
   "execution_count": 5,
   "id": "85670eed",
   "metadata": {},
   "outputs": [
    {
     "name": "stdout",
     "output_type": "stream",
     "text": [
      "(307511, 546)\n",
      "(307511,)\n"
     ]
    }
   ],
   "source": [
    "features = app_merged_df.drop(['TARGET'], axis=1)\n",
    "\n",
    "label = app_merged_df['TARGET']\n",
    "\n",
    "print(features.shape)\n",
    "print(label.shape)"
   ]
  },
  {
   "cell_type": "markdown",
   "id": "23f80515",
   "metadata": {},
   "source": [
    "### Train/Test Split"
   ]
  },
  {
   "cell_type": "code",
   "execution_count": 6,
   "id": "2c1e727d",
   "metadata": {},
   "outputs": [
    {
     "name": "stdout",
     "output_type": "stream",
     "text": [
      "X_train : (246008, 546)\n",
      "X_test : (61503, 546)\n",
      "y_train : (246008,)\n",
      "y_test : (61503,)\n"
     ]
    }
   ],
   "source": [
    "X_train,X_test, y_train, y_test = train_test_split(features, label,  test_size=0.2, random_state=123)\n",
    "\n",
    "print (\"X_train :\" , X_train.shape )\n",
    "print (\"X_test :\", X_test.shape)\n",
    "print (\"y_train :\", y_train.shape)\n",
    "print (\"y_test :\", y_test.shape)"
   ]
  },
  {
   "cell_type": "code",
   "execution_count": 7,
   "id": "cad04fe3",
   "metadata": {},
   "outputs": [
    {
     "name": "stdout",
     "output_type": "stream",
     "text": [
      "X_train_final : (246008, 546)\n",
      "X_test_final : (61503, 546)\n"
     ]
    }
   ],
   "source": [
    "X_train_final = np.nan_to_num(X_train)\n",
    "X_test_final = np.nan_to_num(X_test)\n",
    "\n",
    "print (\"X_train_final :\" , X_train_final.shape )\n",
    "print (\"X_test_final :\", X_test_final.shape)"
   ]
  },
  {
   "cell_type": "markdown",
   "id": "de1d0cee",
   "metadata": {},
   "source": [
    "### Feature Selection\n",
    "\n",
    "#### KBest"
   ]
  },
  {
   "cell_type": "code",
   "execution_count": 8,
   "id": "3ce8ac17",
   "metadata": {},
   "outputs": [
    {
     "name": "stderr",
     "output_type": "stream",
     "text": [
      "/opt/anaconda3/envs/pyds/lib/python3.10/site-packages/numpy/core/fromnumeric.py:86: RuntimeWarning: invalid value encountered in reduce\n",
      "  return ufunc.reduce(obj, axis, dtype, out, **passkwargs)\n",
      "/opt/anaconda3/envs/pyds/lib/python3.10/site-packages/numpy/core/fromnumeric.py:86: RuntimeWarning: invalid value encountered in reduce\n",
      "  return ufunc.reduce(obj, axis, dtype, out, **passkwargs)\n",
      "/opt/anaconda3/envs/pyds/lib/python3.10/site-packages/numpy/core/fromnumeric.py:86: RuntimeWarning: invalid value encountered in reduce\n",
      "  return ufunc.reduce(obj, axis, dtype, out, **passkwargs)\n",
      "/opt/anaconda3/envs/pyds/lib/python3.10/site-packages/sklearn/utils/__init__.py:711: RuntimeWarning: overflow encountered in square\n",
      "  X = X**2\n",
      "/opt/anaconda3/envs/pyds/lib/python3.10/site-packages/numpy/core/fromnumeric.py:86: RuntimeWarning: invalid value encountered in reduce\n",
      "  return ufunc.reduce(obj, axis, dtype, out, **passkwargs)\n",
      "/opt/anaconda3/envs/pyds/lib/python3.10/site-packages/sklearn/utils/__init__.py:711: RuntimeWarning: overflow encountered in square\n",
      "  X = X**2\n",
      "/opt/anaconda3/envs/pyds/lib/python3.10/site-packages/numpy/core/_methods.py:48: RuntimeWarning: overflow encountered in reduce\n",
      "  return umr_sum(a, axis, dtype, out, keepdims, initial, where)\n",
      "/opt/anaconda3/envs/pyds/lib/python3.10/site-packages/sklearn/feature_selection/_univariate_selection.py:100: RuntimeWarning: invalid value encountered in subtract\n",
      "  sstot = ss_alldata - square_of_sums_alldata / float(n_samples)\n",
      "/opt/anaconda3/envs/pyds/lib/python3.10/site-packages/sklearn/feature_selection/_univariate_selection.py:104: RuntimeWarning: invalid value encountered in subtract\n",
      "  ssbn -= square_of_sums_alldata / float(n_samples)\n",
      "/opt/anaconda3/envs/pyds/lib/python3.10/site-packages/sklearn/feature_selection/_univariate_selection.py:112: UserWarning: Features [278 283 299 304 307 310 313 324 325 326 393 525 526 527 528] are constant.\n",
      "  warnings.warn(\"Features %s are constant.\" % constant_features_idx, UserWarning)\n",
      "/opt/anaconda3/envs/pyds/lib/python3.10/site-packages/sklearn/feature_selection/_univariate_selection.py:113: RuntimeWarning: invalid value encountered in divide\n",
      "  f = msb / msw\n"
     ]
    },
    {
     "name": "stdout",
     "output_type": "stream",
     "text": [
      "X_train_best : (246008, 400)\n",
      "X_test_best : (61503, 400)\n"
     ]
    }
   ],
   "source": [
    "from sklearn.feature_selection import SelectKBest\n",
    "\n",
    "number_of_features_to_select = 400\n",
    "\n",
    "feature_selector = SelectKBest(k=number_of_features_to_select)\n",
    "\n",
    "feature_selector = feature_selector.fit(X_train_final, y_train)\n",
    "\n",
    "cols = feature_selector.get_support(indices = True)\n",
    "\n",
    "X_train_best = X_train.iloc[:,cols]\n",
    "X_test_best = X_test.iloc[:,cols]\n",
    "\n",
    "print (\"X_train_best :\" , X_train_best.shape )\n",
    "print (\"X_test_best :\", X_test_best.shape)"
   ]
  },
  {
   "cell_type": "markdown",
   "id": "9fae6f58",
   "metadata": {},
   "source": [
    "### Standarding the final dataset"
   ]
  },
  {
   "cell_type": "code",
   "execution_count": 9,
   "id": "303f81cb",
   "metadata": {},
   "outputs": [
    {
     "name": "stdout",
     "output_type": "stream",
     "text": [
      "X_train_std : (246008, 400)\n",
      "X_test_std : (61503, 400)\n"
     ]
    }
   ],
   "source": [
    "from sklearn.preprocessing import StandardScaler\n",
    "\n",
    "scaler = StandardScaler()\n",
    "X_train_std = scaler.fit_transform(X_train_best)\n",
    "X_test_std = scaler.fit_transform(X_test_best)\n",
    "\n",
    "#replacing nan values with 0\n",
    "X_train_std[np.isnan(X_train_std)] = 0\n",
    "X_test_std[np.isnan(X_test_std)] = 0\n",
    "\n",
    "print (\"X_train_std :\" , X_train_std.shape )\n",
    "print (\"X_test_std :\", X_test_std.shape)"
   ]
  },
  {
   "cell_type": "markdown",
   "id": "db4f5444",
   "metadata": {},
   "source": [
    "## Light GBM"
   ]
  },
  {
   "cell_type": "markdown",
   "id": "5d11c424",
   "metadata": {},
   "source": [
    "### Hyperparameter Tuning using Bayesian Optimization"
   ]
  },
  {
   "cell_type": "code",
   "execution_count": 10,
   "id": "4c50bbac",
   "metadata": {},
   "outputs": [
    {
     "name": "stdout",
     "output_type": "stream",
     "text": [
      "Requirement already satisfied: bayesian-optimization in /opt/anaconda3/envs/pyds/lib/python3.10/site-packages (1.4.3)\n",
      "Requirement already satisfied: scipy>=1.0.0 in /opt/anaconda3/envs/pyds/lib/python3.10/site-packages (from bayesian-optimization) (1.10.0)\n",
      "Requirement already satisfied: numpy>=1.9.0 in /opt/anaconda3/envs/pyds/lib/python3.10/site-packages (from bayesian-optimization) (1.23.5)\n",
      "Requirement already satisfied: scikit-learn>=0.18.0 in /opt/anaconda3/envs/pyds/lib/python3.10/site-packages (from bayesian-optimization) (1.2.1)\n",
      "Requirement already satisfied: colorama>=0.4.6 in /opt/anaconda3/envs/pyds/lib/python3.10/site-packages (from bayesian-optimization) (0.4.6)\n",
      "Requirement already satisfied: joblib>=1.1.1 in /opt/anaconda3/envs/pyds/lib/python3.10/site-packages (from scikit-learn>=0.18.0->bayesian-optimization) (1.1.1)\n",
      "Requirement already satisfied: threadpoolctl>=2.0.0 in /opt/anaconda3/envs/pyds/lib/python3.10/site-packages (from scikit-learn>=0.18.0->bayesian-optimization) (2.2.0)\n"
     ]
    }
   ],
   "source": [
    "!pip install bayesian-optimization"
   ]
  },
  {
   "cell_type": "code",
   "execution_count": 11,
   "id": "938fc816",
   "metadata": {},
   "outputs": [],
   "source": [
    "import lightgbm as lgb\n",
    "from lightgbm import LGBMClassifier\n",
    "from sklearn.model_selection import KFold\n",
    "from sklearn.model_selection import cross_val_score\n",
    "from sklearn.model_selection import cross_validate"
   ]
  },
  {
   "cell_type": "code",
   "execution_count": 12,
   "id": "785c5a2d",
   "metadata": {},
   "outputs": [],
   "source": [
    "lgb = LGBMClassifier()"
   ]
  },
  {
   "cell_type": "code",
   "execution_count": 13,
   "id": "55695f62",
   "metadata": {},
   "outputs": [],
   "source": [
    "results = []\n",
    "names = []\n",
    "## for classification tasks\n",
    "scoring_metrics = ['accuracy', 'precision', 'recall', 'f1', 'roc_auc']"
   ]
  },
  {
   "cell_type": "code",
   "execution_count": null,
   "id": "0cc97d18",
   "metadata": {},
   "outputs": [],
   "source": [
    "model = lgb.fit (X_train_std, np.ravel(y_train))"
   ]
  },
  {
   "cell_type": "code",
   "execution_count": null,
   "id": "9ac57e2e",
   "metadata": {},
   "outputs": [],
   "source": []
  },
  {
   "cell_type": "code",
   "execution_count": null,
   "id": "054f58fd",
   "metadata": {},
   "outputs": [],
   "source": []
  },
  {
   "cell_type": "code",
   "execution_count": null,
   "id": "7f83d5a1",
   "metadata": {},
   "outputs": [],
   "source": []
  },
  {
   "cell_type": "code",
   "execution_count": null,
   "id": "67e65f94",
   "metadata": {},
   "outputs": [],
   "source": [
    "## STOP here\n",
    "\n",
    "prin(fail)"
   ]
  },
  {
   "cell_type": "markdown",
   "id": "5d01597e",
   "metadata": {},
   "source": [
    "### Model Evaluation Summary"
   ]
  },
  {
   "cell_type": "code",
   "execution_count": 8,
   "id": "869c3515",
   "metadata": {},
   "outputs": [
    {
     "data": {
      "text/html": [
       "<div>\n",
       "<style scoped>\n",
       "    .dataframe tbody tr th:only-of-type {\n",
       "        vertical-align: middle;\n",
       "    }\n",
       "\n",
       "    .dataframe tbody tr th {\n",
       "        vertical-align: top;\n",
       "    }\n",
       "\n",
       "    .dataframe thead th {\n",
       "        text-align: right;\n",
       "    }\n",
       "</style>\n",
       "<table border=\"1\" class=\"dataframe\">\n",
       "  <thead>\n",
       "    <tr style=\"text-align: right;\">\n",
       "      <th></th>\n",
       "      <th>algo</th>\n",
       "      <th>roc_auc_score</th>\n",
       "      <th>f1_score</th>\n",
       "      <th>accuracy_score</th>\n",
       "    </tr>\n",
       "  </thead>\n",
       "  <tbody>\n",
       "    <tr>\n",
       "      <th>0</th>\n",
       "      <td>LR</td>\n",
       "      <td>0.51</td>\n",
       "      <td>0.05</td>\n",
       "      <td>0.92</td>\n",
       "    </tr>\n",
       "    <tr>\n",
       "      <th>1</th>\n",
       "      <td>RF</td>\n",
       "      <td>0.50</td>\n",
       "      <td>0.00</td>\n",
       "      <td>0.92</td>\n",
       "    </tr>\n",
       "    <tr>\n",
       "      <th>2</th>\n",
       "      <td>SVC</td>\n",
       "      <td>0.50</td>\n",
       "      <td>0.01</td>\n",
       "      <td>0.92</td>\n",
       "    </tr>\n",
       "    <tr>\n",
       "      <th>3</th>\n",
       "      <td>GB</td>\n",
       "      <td>0.51</td>\n",
       "      <td>0.06</td>\n",
       "      <td>0.92</td>\n",
       "    </tr>\n",
       "    <tr>\n",
       "      <th>4</th>\n",
       "      <td>KNN</td>\n",
       "      <td>0.51</td>\n",
       "      <td>0.04</td>\n",
       "      <td>0.91</td>\n",
       "    </tr>\n",
       "  </tbody>\n",
       "</table>\n",
       "</div>"
      ],
      "text/plain": [
       "  algo  roc_auc_score  f1_score  accuracy_score\n",
       "0   LR           0.51      0.05            0.92\n",
       "1   RF           0.50      0.00            0.92\n",
       "2  SVC           0.50      0.01            0.92\n",
       "3   GB           0.51      0.06            0.92\n",
       "4  KNN           0.51      0.04            0.91"
      ]
     },
     "execution_count": 8,
     "metadata": {},
     "output_type": "execute_result"
    }
   ],
   "source": [
    "algo = [\"LR\", \"RF\", \"SVC\", \"GB\", \"KNN\"]\n",
    "d1 = {'algo': algo,\n",
    "     'roc_auc_score': roc_auc_score,\n",
    "     'f1_score': f1_score,\n",
    "     'accuracy_score' : accuracy_score,\n",
    "    }\n",
    "df1 = pd.DataFrame(data=d1)\n",
    "df1"
   ]
  },
  {
   "cell_type": "code",
   "execution_count": 9,
   "id": "80c15908",
   "metadata": {},
   "outputs": [
    {
     "name": "stdout",
     "output_type": "stream",
     "text": [
      "model saved to :  model_all.pkl\n"
     ]
    }
   ],
   "source": [
    "import pickle\n",
    "model_file = 'model_all.pkl'\n",
    "with open(model_file,'wb') as f:\n",
    "    pickle.dump(model,f)\n",
    "print (\"model saved to : \", model_file)"
   ]
  },
  {
   "cell_type": "code",
   "execution_count": null,
   "id": "85762698",
   "metadata": {},
   "outputs": [],
   "source": []
  },
  {
   "cell_type": "markdown",
   "id": "fb40bd1c",
   "metadata": {},
   "source": [
    "### Feature Selection"
   ]
  },
  {
   "cell_type": "code",
   "execution_count": null,
   "id": "4d1068a0",
   "metadata": {},
   "outputs": [
    {
     "name": "stderr",
     "output_type": "stream",
     "text": [
      "/opt/anaconda3/envs/pyds/lib/python3.10/site-packages/lightgbm/sklearn.py:726: UserWarning: 'early_stopping_rounds' argument is deprecated and will be removed in a future release of LightGBM. Pass 'early_stopping()' callback via 'callbacks' argument instead.\n",
      "  _log_warning(\"'early_stopping_rounds' argument is deprecated and will be removed in a future release of LightGBM. \"\n"
     ]
    }
   ],
   "source": [
    "import lightgbm as lgb\n",
    "\n",
    "model_sk = lgb.LGBMClassifier(boosting_type='gbdt', max_depth=7, learning_rate=0.01, n_estimators= 2000, \n",
    "                 class_weight='balanced', subsample=0.9, colsample_bytree= 0.8, n_jobs=-1)\n",
    "train_features, valid_features, train_y, valid_y = train_test_split(X_train, y_train, test_size = 0.15, random_state = 42)\n",
    "model_sk.fit(train_features, train_y, early_stopping_rounds=100, eval_set = [(valid_features, valid_y)], eval_metric = 'auc')"
   ]
  },
  {
   "cell_type": "code",
   "execution_count": null,
   "id": "c058556f",
   "metadata": {},
   "outputs": [],
   "source": [
    "feature_imp = pd.DataFrame(sorted(zip(model_sk.feature_importances_, X_train_final.columns)), columns=['Value','Feature'])\n",
    "features_df = feature_imp.sort_values(by=\"Value\", ascending=False)\n",
    "selected_features = list(features_df[features_df['Value']>=50]['Feature'])\n",
    "# Saving the selected features into pickle file\n",
    "with open('select_features.txt','wb') as fp:\n",
    "    pickle.dump(selected_features, fp)\n",
    "print('The no. of features selected:',len(selected_features))"
   ]
  },
  {
   "cell_type": "code",
   "execution_count": null,
   "id": "879d4603",
   "metadata": {},
   "outputs": [],
   "source": [
    "# Feature importance Plot\n",
    "data1 = features_df.head(20)\n",
    "data = [go.Bar(x =data1.sort_values(by='Value')['Value'] , y = data1.sort_values(by='Value')['Feature'], orientation = 'h',\n",
    "              marker = dict(\n",
    "        color = 'rgba(43, 13, 150, 0.6)',\n",
    "        line = dict(\n",
    "            color = 'rgba(43, 13, 150, 1.0)',\n",
    "            width = 1.5)\n",
    "    )) ]\n",
    "layout = go.Layout(\n",
    "    autosize=False,\n",
    "    width=1300,\n",
    "    height=700,\n",
    "    title = \"Top 20 important features\",\n",
    "    xaxis=dict(\n",
    "        title='Importance value'\n",
    "        ),\n",
    "    yaxis=dict(\n",
    "        automargin=True\n",
    "        ),\n",
    "    bargap=0.4\n",
    "    )\n",
    "fig = go.Figure(data = data, layout=layout)\n",
    "fig.layout.template = 'seaborn'\n",
    "py.iplot(fig)"
   ]
  },
  {
   "cell_type": "code",
   "execution_count": null,
   "id": "27681f3e",
   "metadata": {},
   "outputs": [],
   "source": []
  }
 ],
 "metadata": {
  "kernelspec": {
   "display_name": "Python 3 (ipykernel)",
   "language": "python",
   "name": "python3"
  },
  "language_info": {
   "codemirror_mode": {
    "name": "ipython",
    "version": 3
   },
   "file_extension": ".py",
   "mimetype": "text/x-python",
   "name": "python",
   "nbconvert_exporter": "python",
   "pygments_lexer": "ipython3",
   "version": "3.10.9"
  }
 },
 "nbformat": 4,
 "nbformat_minor": 5
}
